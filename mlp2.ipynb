{
 "cells": [
  {
   "cell_type": "code",
   "execution_count": 7,
   "id": "66b1294b",
   "metadata": {},
   "outputs": [
    {
     "name": "stdout",
     "output_type": "stream",
     "text": [
      "| 에폭 1 |  반복 1 / 10 | 시간 0[s] | 손실 1.10\n",
      "| 에폭 31 |  반복 1 / 10 | 시간 0[s] | 손실 0.98\n",
      "| 에폭 61 |  반복 1 / 10 | 시간 0[s] | 손실 0.74\n",
      "| 에폭 91 |  반복 1 / 10 | 시간 0[s] | 손실 0.66\n",
      "| 에폭 121 |  반복 1 / 10 | 시간 0[s] | 손실 0.43\n",
      "| 에폭 151 |  반복 1 / 10 | 시간 0[s] | 손실 0.26\n",
      "| 에폭 181 |  반복 1 / 10 | 시간 0[s] | 손실 0.20\n",
      "| 에폭 211 |  반복 1 / 10 | 시간 0[s] | 손실 0.16\n",
      "| 에폭 241 |  반복 1 / 10 | 시간 0[s] | 손실 0.14\n",
      "| 에폭 271 |  반복 1 / 10 | 시간 0[s] | 손실 0.12\n"
     ]
    },
    {
     "data": {
      "image/png": "[encoded data removed]",
      "text/plain": [
       "<Figure size 640x480 with 1 Axes>"
      ]
     },
     "metadata": {},
     "output_type": "display_data"
    }
   ],
   "source": [
    "import numpy as np\n",
    "from common.optimizer import SGD\n",
    "from common.trainer import Trainer\n",
    "from dataset import spiral\n",
    "from two_layer_net import TwoLayerNet\n",
    "\n",
    "max_epoch = 300\n",
    "batch_size = 30\n",
    "hidden_size = 10\n",
    "learning_rate = 1.0\n",
    "\n",
    "x, t = spiral.load_data()\n",
    "model = TwoLayerNet(input_size=2, hidden_size=hidden_size, output_size=3)\n",
    "optimizer = SGD(lr=learning_rate)\n",
    "\n",
    "trainer = Trainer(model, optimizer)\n",
    "trainer.fit(x, t, max_epoch, batch_size, eval_interval=10)\n",
    "trainer.plot()"
   ]
  },
  {
   "cell_type": "code",
   "execution_count": 8,
   "id": "574882a3",
   "metadata": {},
   "outputs": [],
   "source": [
    "from common.layers import Embedding\n",
    "from ch04.negative_sampling_layer import NegativeSamplingLoss\n",
    "\n",
    "class CBOW:\n",
    "    def __init__(self, vocab_size, hidden_size, window_size, corpus):\n",
    "        V, H = vocab_size, hidden_size\n",
    "        \n",
    "        W_in = 0.1 * np.random.randn(V, H).astype('f')\n",
    "        W_out = 0.1 * np.random.randn(V, H).astype('f')\n",
    "        \n",
    "        self.in_layers = []\n",
    "        for i in range(2 * window_size):\n",
    "            layer = Embedding(W_in)\n",
    "            self.in_layers.append(layer)\n",
    "        self.ns_loss = NegativeSamplingLoss(W_out, corpus, power=0.75, sample_size=5)\n",
    "        \n",
    "        layers = self.in_layers + [self.ns_loss]\n",
    "        self.params, self.grads = [], []\n",
    "        for layer in layers:\n",
    "            self.params += layer.params\n",
    "            self.grads += layer.grads\n",
    "        \n",
    "        self.word_vecs = W_in\n",
    "        \n",
    "    def forward(self, contexts, target):\n",
    "        h = 0\n",
    "        for i, layer in enumerate(self.in_layers):\n",
    "            h += layer.forward(contexts[:,i])\n",
    "        h *= 1 / len(self.in_layers)\n",
    "        loss = self.ns_loss.forward(h, target)\n",
    "        return loss\n",
    "    \n",
    "    def backward(self, dout=1):\n",
    "        dout = self.ns_loss.backward(dout)\n",
    "        dout *= 1 / len(self.in_layers)\n",
    "        for layer in self.in_layers:\n",
    "            layer.backward(dout)\n",
    "        return None"
   ]
  },
  {
   "cell_type": "code",
   "execution_count": 5,
   "id": "3258abd3",
   "metadata": {},
   "outputs": [],
   "source": [
    "from common import config\n",
    "import pickle\n",
    "from common.trainer import Trainer\n",
    "from common.optimizer import Adam\n",
    "from common.util import create_contexts_target, to_cpu, to_gpu\n",
    "from dataset import ptb"
   ]
  },
  {
   "cell_type": "code",
   "execution_count": 10,
   "id": "6b541af8",
   "metadata": {
    "scrolled": true
   },
   "outputs": [
    {
     "name": "stdout",
     "output_type": "stream",
     "text": [
      "| 에폭 1 |  반복 1 / 9295 | 시간 0[s] | 손실 4.16\n",
      "| 에폭 1 |  반복 21 / 9295 | 시간 3[s] | 손실 4.15\n",
      "| 에폭 1 |  반복 41 / 9295 | 시간 6[s] | 손실 4.09\n",
      "| 에폭 1 |  반복 61 / 9295 | 시간 9[s] | 손실 3.98\n",
      "| 에폭 1 |  반복 81 / 9295 | 시간 12[s] | 손실 3.79\n",
      "| 에폭 1 |  반복 101 / 9295 | 시간 15[s] | 손실 3.73\n",
      "| 에폭 1 |  반복 121 / 9295 | 시간 18[s] | 손실 3.67\n",
      "| 에폭 1 |  반복 141 / 9295 | 시간 21[s] | 손실 3.57\n",
      "| 에폭 1 |  반복 161 / 9295 | 시간 24[s] | 손실 3.54\n",
      "| 에폭 1 |  반복 181 / 9295 | 시간 27[s] | 손실 3.51\n",
      "| 에폭 1 |  반복 201 / 9295 | 시간 30[s] | 손실 3.47\n",
      "| 에폭 1 |  반복 221 / 9295 | 시간 32[s] | 손실 3.45\n",
      "| 에폭 1 |  반복 241 / 9295 | 시간 35[s] | 손실 3.45\n",
      "| 에폭 1 |  반복 261 / 9295 | 시간 38[s] | 손실 3.40\n",
      "| 에폭 1 |  반복 281 / 9295 | 시간 41[s] | 손실 3.38\n",
      "| 에폭 1 |  반복 301 / 9295 | 시간 44[s] | 손실 3.39\n",
      "| 에폭 1 |  반복 321 / 9295 | 시간 47[s] | 손실 3.38\n",
      "| 에폭 1 |  반복 341 / 9295 | 시간 50[s] | 손실 3.39\n",
      "| 에폭 1 |  반복 361 / 9295 | 시간 53[s] | 손실 3.40\n",
      "| 에폭 1 |  반복 381 / 9295 | 시간 56[s] | 손실 3.39\n",
      "| 에폭 1 |  반복 401 / 9295 | 시간 58[s] | 손실 3.38\n",
      "| 에폭 1 |  반복 421 / 9295 | 시간 61[s] | 손실 3.39\n",
      "| 에폭 1 |  반복 441 / 9295 | 시간 64[s] | 손실 3.39\n",
      "| 에폭 1 |  반복 461 / 9295 | 시간 67[s] | 손실 3.41\n",
      "| 에폭 1 |  반복 481 / 9295 | 시간 70[s] | 손실 3.40\n",
      "| 에폭 1 |  반복 501 / 9295 | 시간 73[s] | 손실 3.38\n"
     ]
    },
    {
     "ename": "KeyboardInterrupt",
     "evalue": "",
     "output_type": "error",
     "traceback": [
      "\u001b[0;31m---------------------------------------------------------------------------\u001b[0m",
      "\u001b[0;31mKeyboardInterrupt\u001b[0m                         Traceback (most recent call last)",
      "Cell \u001b[0;32mIn [10], line 15\u001b[0m\n\u001b[1;32m     12\u001b[0m optimizer \u001b[38;5;241m=\u001b[39m Adam()\n\u001b[1;32m     13\u001b[0m trainer \u001b[38;5;241m=\u001b[39m Trainer(model, optimizer)\n\u001b[0;32m---> 15\u001b[0m trainer\u001b[38;5;241m.\u001b[39mfit(contexts, target, max_epoch, batch_size)\n\u001b[1;32m     16\u001b[0m trainer\u001b[38;5;241m.\u001b[39mplot()\n",
      "File \u001b[0;32m~/common/trainer.py:44\u001b[0m, in \u001b[0;36mTrainer.fit\u001b[0;34m(self, x, t, max_epoch, batch_size, max_grad, eval_interval)\u001b[0m\n\u001b[1;32m     42\u001b[0m \u001b[38;5;28;01mif\u001b[39;00m max_grad \u001b[38;5;129;01mis\u001b[39;00m \u001b[38;5;129;01mnot\u001b[39;00m \u001b[38;5;28;01mNone\u001b[39;00m:\n\u001b[1;32m     43\u001b[0m     clip_grads(model\u001b[38;5;241m.\u001b[39mgrads, max_grad)\n\u001b[0;32m---> 44\u001b[0m \u001b[43moptimizer\u001b[49m\u001b[38;5;241;43m.\u001b[39;49m\u001b[43mupdate\u001b[49m\u001b[43m(\u001b[49m\u001b[43mmodel\u001b[49m\u001b[38;5;241;43m.\u001b[39;49m\u001b[43mparams\u001b[49m\u001b[43m,\u001b[49m\u001b[43m \u001b[49m\u001b[43mmodel\u001b[49m\u001b[38;5;241;43m.\u001b[39;49m\u001b[43mgrads\u001b[49m\u001b[43m)\u001b[49m\n\u001b[1;32m     45\u001b[0m total_loss \u001b[38;5;241m+\u001b[39m\u001b[38;5;241m=\u001b[39m loss\n\u001b[1;32m     46\u001b[0m loss_count \u001b[38;5;241m+\u001b[39m\u001b[38;5;241m=\u001b[39m \u001b[38;5;241m1\u001b[39m\n",
      "File \u001b[0;32m~/common/optimizer.py:128\u001b[0m, in \u001b[0;36mAdam.update\u001b[0;34m(self, params, grads)\u001b[0m\n\u001b[1;32m    125\u001b[0m \u001b[38;5;28mself\u001b[39m\u001b[38;5;241m.\u001b[39mm[i] \u001b[38;5;241m+\u001b[39m\u001b[38;5;241m=\u001b[39m (\u001b[38;5;241m1\u001b[39m \u001b[38;5;241m-\u001b[39m \u001b[38;5;28mself\u001b[39m\u001b[38;5;241m.\u001b[39mbeta1) \u001b[38;5;241m*\u001b[39m (grads[i] \u001b[38;5;241m-\u001b[39m \u001b[38;5;28mself\u001b[39m\u001b[38;5;241m.\u001b[39mm[i])\n\u001b[1;32m    126\u001b[0m \u001b[38;5;28mself\u001b[39m\u001b[38;5;241m.\u001b[39mv[i] \u001b[38;5;241m+\u001b[39m\u001b[38;5;241m=\u001b[39m (\u001b[38;5;241m1\u001b[39m \u001b[38;5;241m-\u001b[39m \u001b[38;5;28mself\u001b[39m\u001b[38;5;241m.\u001b[39mbeta2) \u001b[38;5;241m*\u001b[39m (grads[i]\u001b[38;5;241m*\u001b[39m\u001b[38;5;241m*\u001b[39m\u001b[38;5;241m2\u001b[39m \u001b[38;5;241m-\u001b[39m \u001b[38;5;28mself\u001b[39m\u001b[38;5;241m.\u001b[39mv[i])\n\u001b[0;32m--> 128\u001b[0m params[i] \u001b[38;5;241m-\u001b[39m\u001b[38;5;241m=\u001b[39m lr_t \u001b[38;5;241m*\u001b[39m \u001b[38;5;28mself\u001b[39m\u001b[38;5;241m.\u001b[39mm[i] \u001b[38;5;241m/\u001b[39m (\u001b[43mnp\u001b[49m\u001b[38;5;241;43m.\u001b[39;49m\u001b[43msqrt\u001b[49m\u001b[43m(\u001b[49m\u001b[38;5;28;43mself\u001b[39;49m\u001b[38;5;241;43m.\u001b[39;49m\u001b[43mv\u001b[49m\u001b[43m[\u001b[49m\u001b[43mi\u001b[49m\u001b[43m]\u001b[49m\u001b[43m)\u001b[49m \u001b[38;5;241m+\u001b[39m \u001b[38;5;241m1e-7\u001b[39m)\n",
      "\u001b[0;31mKeyboardInterrupt\u001b[0m: "
     ]
    }
   ],
   "source": [
    "window_size = 5\n",
    "hidden_size = 100\n",
    "batch_size = 100\n",
    "max_epoch = 10\n",
    "\n",
    "corpus, word_to_id, id_to_word = ptb.load_data('train')\n",
    "vocab_size = len(word_to_id)\n",
    "\n",
    "contexts, target = create_contexts_target(corpus, window_size)\n",
    "\n",
    "model = CBOW(vocab_size, hidden_size, window_size, corpus)\n",
    "optimizer = Adam()\n",
    "trainer = Trainer(model, optimizer)\n",
    "\n",
    "trainer.fit(contexts, target, max_epoch, batch_size)\n",
    "trainer.plot()"
   ]
  },
  {
   "cell_type": "code",
   "execution_count": 2,
   "id": "2c4033a0",
   "metadata": {},
   "outputs": [
    {
     "name": "stdout",
     "output_type": "stream",
     "text": [
      "On branch main\r\n",
      "Your branch is up to date with 'origin/main'.\r\n",
      "\r\n",
      "Untracked files:\r\n",
      "  (use \"git add <file>...\" to include in what will be committed)\r\n",
      "\t\u001b[31m.DS_Store\u001b[m\r\n",
      "\t\u001b[31mtest.txt\u001b[m\r\n",
      "\r\n",
      "nothing added to commit but untracked files present (use \"git add\" to track)\r\n"
     ]
    }
   ],
   "source": [
    "!git status"
   ]
  },
  {
   "cell_type": "code",
   "execution_count": 3,
   "id": "6577769d",
   "metadata": {},
   "outputs": [],
   "source": [
    "!git add *"
   ]
  },
  {
   "cell_type": "code",
   "execution_count": 5,
   "id": "f1a35280",
   "metadata": {},
   "outputs": [
    {
     "name": "stdout",
     "output_type": "stream",
     "text": [
      "[main 6a522f5] message\r\n",
      " Committer: makisbea <briankim@Brianui-MacBook-Pro.local>\r\n",
      "Your name and email address were configured automatically based\r\n",
      "on your username and hostname. Please check that they are accurate.\r\n",
      "You can suppress this message by setting them explicitly:\r\n",
      "\r\n",
      "    git config --global user.name \"Your Name\"\r\n",
      "    git config --global user.email you@example.com\r\n",
      "\r\n",
      "After doing this, you may fix the identity used for this commit with:\r\n",
      "\r\n",
      "    git commit --amend --reset-author\r\n",
      "\r\n",
      " 1 file changed, 1 insertion(+)\r\n",
      " create mode 100644 test.txt\r\n"
     ]
    }
   ],
   "source": [
    "!git commit -m 'message'"
   ]
  },
  {
   "cell_type": "code",
   "execution_count": 6,
   "id": "4dfd463f",
   "metadata": {},
   "outputs": [
    {
     "name": "stdout",
     "output_type": "stream",
     "text": [
      "Enumerating objects: 4, done.\n",
      "Counting objects: 100% (4/4), done.\n",
      "Delta compression using up to 4 threads\n",
      "Compressing objects: 100% (2/2), done.\n",
      "Writing objects: 100% (3/3), 275 bytes | 275.00 KiB/s, done.\n",
      "Total 3 (delta 1), reused 0 (delta 0), pack-reused 0\n",
      "remote: Resolving deltas: 100% (1/1), completed with 1 local object.\u001b[K\n",
      "To https://github.com/makisbea/maki_mlp2\n",
      "   9ab311e..6a522f5  main -> main\n"
     ]
    }
   ],
   "source": [
    "!git push"
   ]
  }
 ],
 "metadata": {
  "kernelspec": {
   "display_name": "Python 3 (ipykernel)",
   "language": "python",
   "name": "python3"
  },
  "language_info": {
   "codemirror_mode": {
    "name": "ipython",
    "version": 3
   },
   "file_extension": ".py",
   "mimetype": "text/x-python",
   "name": "python",
   "nbconvert_exporter": "python",
   "pygments_lexer": "ipython3",
   "version": "3.10.2"
  }
 },
 "nbformat": 4,
 "nbformat_minor": 5
}
